{
  "nbformat": 4,
  "nbformat_minor": 0,
  "metadata": {
    "colab": {
      "name": "checkpoints.data structe",
      "provenance": [],
      "collapsed_sections": []
    },
    "kernelspec": {
      "name": "python3",
      "display_name": "Python 3"
    },
    "language_info": {
      "name": "python"
    }
  },
  "cells": [
    {
      "cell_type": "code",
      "source": [
        "#Q1"
      ],
      "metadata": {
        "id": "T48qIH_I1PL-"
      },
      "execution_count": null,
      "outputs": []
    },
    {
      "cell_type": "code",
      "source": [
        "l=[2, 3, 6]\n",
        "m=1\n",
        "for i in range(len(l)):\n",
        "  m=m*l[i]\n",
        "print(m)\n"
      ],
      "metadata": {
        "colab": {
          "base_uri": "https://localhost:8080/"
        },
        "id": "giIwxNS01us0",
        "outputId": "d9e5eef6-5cac-40d4-8e98-9540498b1631"
      },
      "execution_count": 8,
      "outputs": [
        {
          "output_type": "stream",
          "name": "stdout",
          "text": [
            "36\n"
          ]
        }
      ]
    },
    {
      "cell_type": "code",
      "source": [
        "#Q2"
      ],
      "metadata": {
        "id": "E5olHLaB5nGz"
      },
      "execution_count": null,
      "outputs": []
    },
    {
      "cell_type": "code",
      "source": [
        "l= [(2, 5), (1, 2), (4, 4), (2, 3), (2, 1)]\n",
        "l.sort(key = lambda x : x[-1]) \n",
        "l"
      ],
      "metadata": {
        "colab": {
          "base_uri": "https://localhost:8080/"
        },
        "id": "6kvOUaG15psh",
        "outputId": "26929d03-bd2a-4653-934d-629d354f98ea"
      },
      "execution_count": 14,
      "outputs": [
        {
          "output_type": "execute_result",
          "data": {
            "text/plain": [
              "[(2, 1), (1, 2), (2, 3), (4, 4), (2, 5)]"
            ]
          },
          "metadata": {},
          "execution_count": 14
        }
      ]
    },
    {
      "cell_type": "code",
      "source": [
        "#Q3"
      ],
      "metadata": {
        "id": "Pv_r2C7U_ZDy"
      },
      "execution_count": null,
      "outputs": []
    },
    {
      "cell_type": "code",
      "source": [
        "d1 = {'a': 100, 'b': 200, 'c':300}\n",
        "d2 = {'a': 300, 'b': 200, 'd':400}\n",
        "d={}\n",
        "for i in d1.keys():\n",
        "  d[i]=d1[i]+d2.get(i,0)\n",
        "for i in d2.keys():\n",
        "  d[i]=d2[i]+d1.get(i,0)\n",
        "d\n",
        "\n"
      ],
      "metadata": {
        "colab": {
          "base_uri": "https://localhost:8080/"
        },
        "id": "7APOLWxw_gC0",
        "outputId": "f4b139c6-591e-4857-9b45-94035de7a44a"
      },
      "execution_count": 15,
      "outputs": [
        {
          "output_type": "execute_result",
          "data": {
            "text/plain": [
              "{'a': 400, 'b': 400, 'c': 300, 'd': 400}"
            ]
          },
          "metadata": {},
          "execution_count": 15
        }
      ]
    },
    {
      "cell_type": "code",
      "source": [
        "#Q4"
      ],
      "metadata": {
        "id": "1zsb7Tw-DN1i"
      },
      "execution_count": null,
      "outputs": []
    },
    {
      "cell_type": "code",
      "source": [
        "n=int(input(\"saisir une valeur\"))\n",
        "d={}\n",
        "for i in range(1,n+1):\n",
        "  d[i]=i*i\n",
        "d\n"
      ],
      "metadata": {
        "colab": {
          "base_uri": "https://localhost:8080/"
        },
        "id": "9arJ-8zjDSVR",
        "outputId": "2d65b96d-d01c-4bdf-821e-5ad21ded0ae8"
      },
      "execution_count": 24,
      "outputs": [
        {
          "name": "stdout",
          "output_type": "stream",
          "text": [
            "saisir une valeur3\n"
          ]
        },
        {
          "output_type": "execute_result",
          "data": {
            "text/plain": [
              "{1: 1, 2: 4, 3: 9}"
            ]
          },
          "metadata": {},
          "execution_count": 24
        }
      ]
    },
    {
      "cell_type": "code",
      "source": [
        "#Q5"
      ],
      "metadata": {
        "id": "U1HQAbEbGxd1"
      },
      "execution_count": null,
      "outputs": []
    },
    {
      "cell_type": "code",
      "source": [
        "l= [('item1', '12.20'), ('item2', '15.10'), ('item3', '24.5')]\n",
        "l.sort(key = lambda x : x[-1],reverse= True )\n",
        "l \n"
      ],
      "metadata": {
        "colab": {
          "base_uri": "https://localhost:8080/"
        },
        "id": "zSo0huewGz6k",
        "outputId": "53cbe3de-c33d-4d7a-90f3-a498ae828520"
      },
      "execution_count": 31,
      "outputs": [
        {
          "output_type": "execute_result",
          "data": {
            "text/plain": [
              "[('item3', '24.5'), ('item2', '15.10'), ('item1', '12.20')]"
            ]
          },
          "metadata": {},
          "execution_count": 31
        }
      ]
    }
  ]
}